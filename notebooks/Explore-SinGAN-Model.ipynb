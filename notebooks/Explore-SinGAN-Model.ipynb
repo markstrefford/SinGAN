{
 "cells": [
  {
   "cell_type": "markdown",
   "metadata": {},
   "source": [
    "# Explore SinGAN output and trained models\n",
    "\n",
    "This notebook is to explore the construction of a SinGAN trained model in order to generate images from a Paint / ClipArt image."
   ]
  },
  {
   "cell_type": "code",
   "execution_count": 1,
   "metadata": {},
   "outputs": [],
   "source": [
    "%load_ext autoreload\n",
    "%autoreload 2\n",
    "\n",
    "import sys\n",
    "sys.path.append('../')"
   ]
  },
  {
   "cell_type": "markdown",
   "metadata": {},
   "source": [
    "* Code from random_samples.py"
   ]
  },
  {
   "cell_type": "code",
   "execution_count": 2,
   "metadata": {},
   "outputs": [],
   "source": [
    "from config import get_arguments\n",
    "from SinGAN.manipulate import *\n",
    "from SinGAN.training import *\n",
    "from SinGAN.imresize import imresize\n",
    "import SinGAN.functions as functions"
   ]
  },
  {
   "cell_type": "code",
   "execution_count": 3,
   "metadata": {},
   "outputs": [
    {
     "name": "stderr",
     "output_type": "stream",
     "text": [
      "usage: ipykernel_launcher.py [-h] [--workers WORKERS] [--cuda] [--netG NETG]\n",
      "                             [--netD NETD] [--manualSeed MANUALSEED]\n",
      "                             [--nc_z NC_Z] [--nc_im NC_IM] [--out OUT]\n",
      "                             [--nfc NFC] [--min_nfc MIN_NFC]\n",
      "                             [--ker_size KER_SIZE] [--num_layer NUM_LAYER]\n",
      "                             [--stride STRIDE] [--padd_size PADD_SIZE]\n",
      "                             [--scale_factor SCALE_FACTOR]\n",
      "                             [--noise_amp NOISE_AMP] [--min_size MIN_SIZE]\n",
      "                             [--max_size MAX_SIZE] [--niter NITER]\n",
      "                             [--gamma GAMMA] [--lr_g LR_G] [--lr_d LR_D]\n",
      "                             [--beta1 BETA1] [--Gsteps GSTEPS]\n",
      "                             [--Dsteps DSTEPS] [--lambda_grad LAMBDA_GRAD]\n",
      "                             [--alpha ALPHA] [--sr_factor SR_FACTOR]\n",
      "                             [--ref_dir REF_DIR] [--ref_name REF_NAME]\n",
      "                             [--editing_start_scale EDITING_START_SCALE]\n",
      "                             [--paint_dir PAINT_DIR] [--paint_name PAINT_NAME]\n",
      "                             [--paint_start_scale PAINT_START_SCALE]\n",
      "                             [--quantization_flag QUANTIZATION_FLAG]\n",
      "                             [--quantization_levels QUANTIZATION_LEVELS]\n",
      "                             [--input_dir INPUT_DIR] --input_name INPUT_NAME\n",
      "                             --mode MODE [--gen_start_scale GEN_START_SCALE]\n",
      "                             [--scale_h SCALE_H] [--scale_v SCALE_V]\n",
      "ipykernel_launcher.py: error: the following arguments are required: --input_name, --mode\n"
     ]
    },
    {
     "ename": "SystemExit",
     "evalue": "2",
     "output_type": "error",
     "traceback": [
      "An exception has occurred, use %tb to see the full traceback.\n",
      "\u001b[0;31mSystemExit\u001b[0m\u001b[0;31m:\u001b[0m 2\n"
     ]
    },
    {
     "name": "stderr",
     "output_type": "stream",
     "text": [
      "/usr/local/lib/python3.5/dist-packages/IPython/core/interactiveshell.py:3333: UserWarning: To exit: use 'exit', 'quit', or Ctrl-D.\n",
      "  warn(\"To exit: use 'exit', 'quit', or Ctrl-D.\", stacklevel=1)\n"
     ]
    }
   ],
   "source": [
    "parser = get_arguments()\n",
    "parser.add_argument('--input_dir', help='input image dir', default='Input/Images')\n",
    "parser.add_argument('--input_name', help='input image name', required=True)\n",
    "parser.add_argument('--mode', help='random_samples | random_samples_arbitrary_sizes', default='train') #, required=True)\n",
    "# for random_samples:\n",
    "parser.add_argument('--gen_start_scale', type=int, help='generation start scale', default=0)\n",
    "# for random_samples_arbitrary_sizes:\n",
    "parser.add_argument('--scale_h', type=float, help='horizontal resize factor for random samples', default=1.5)\n",
    "parser.add_argument('--scale_v', type=float, help='vertical resize factor for random samples', default=1)\n",
    "opt = parser.parse_args()\n",
    "opt = functions.post_config(opt)"
   ]
  },
  {
   "cell_type": "code",
   "execution_count": null,
   "metadata": {},
   "outputs": [],
   "source": [
    "Gs = []\n",
    "Zs = []\n",
    "reals = []\n",
    "NoiseAmp = []\n",
    "dir2save = functions.generate_dir2save(opt)"
   ]
  }
 ],
 "metadata": {
  "kernelspec": {
   "display_name": "Python 3",
   "language": "python",
   "name": "python3"
  },
  "language_info": {
   "codemirror_mode": {
    "name": "ipython",
    "version": 3
   },
   "file_extension": ".py",
   "mimetype": "text/x-python",
   "name": "python",
   "nbconvert_exporter": "python",
   "pygments_lexer": "ipython3",
   "version": "3.5.3"
  }
 },
 "nbformat": 4,
 "nbformat_minor": 2
}
